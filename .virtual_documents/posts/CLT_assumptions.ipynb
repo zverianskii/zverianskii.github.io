








from IPython.display import display, Image as dImage
from PIL import Image
import scipy
import seaborn as sns
import matplotlib.pyplot as plt
import numpy as np


path="./resources/images/screen4.png"
display(Image.open(path))





N = 1000
num_samples = 2000
dat = scipy.stats.zipf.rvs(a=1.6, size=(N, num_samples))
d = dat.mean(axis=0)
fig, ax = plt.subplots(1,2, figsize=(12, 5))
g = sns.histplot(dat[:,0], ax=ax[0], bins=20)
g.set_title("First sample")
g = sns.histplot(d, ax=ax[1], bins=20)
g.set_title("Average")


print(f"mean shapiro p-value: {scipy.stats.shapiro(d).pvalue:.2f}")





N = 1000
num_samples = 2000
dat = scipy.stats.zipf.rvs(a=1.6, size=(N, num_samples))
dat[dat > 8_000_000_000] = 8_000_000_000
d = dat.mean(axis=0)
fig, ax = plt.subplots(1,2, figsize=(12, 5))
g = sns.histplot(dat[:,0], ax=ax[0], bins=20)
g.set_title("First sample")
g = sns.histplot(d, ax=ax[1], bins=20)
g.set_title("Average")





N = 1000
num_samples = 2000
dat = scipy.stats.zipf.rvs(a=1.6, size=(N, num_samples))
dat[dat > 10_000] = 10000
d = dat.mean(axis=0)
fig, ax = plt.subplots(1,2, figsize=(12, 5))
g = sns.histplot(dat[:,0], ax=ax[0], bins=20)
g.set_title("First sample")
g = sns.histplot(d, ax=ax[1], bins=20)
g.set_title("Average")








dat_beta = scipy.stats.expon.rvs(scale=1_000_000, size=(1, N))
dat = scipy.stats.zipf.rvs(a=1.6, size=(N, num_samples))
variance_beta = []
variance_zipf = []
for i in range(2, N):
    variance_beta.append(np.var(dat_beta[0, 0:i]))
    variance_zipf.append(np.var(dat[0:i,0]))

fig, ax = plt.subplots(1,2, figsize=(12, 5))
g = sns.scatterplot(x=range(len(variance_beta)), y=variance_beta, ax=ax[0])
g.set_title("Beta")
g = sns.scatterplot(x=range(len(variance_zipf)), y=variance_zipf, ax=ax[1])
g.set_title("Zeta")





first_week_mu = 1.5
growth_rate = 1.02
res = []
for week in range(52):
    first_week_mu *= growth_rate
    res.append(scipy.stats.poisson.rvs(mu=first_week_mu, size=7*24))
res = np.array(res)

fig, ax = plt.subplots(1,3, figsize=(12, 5))
g = sns.histplot(res[0,:], ax=ax[0])
g.set_title("First week data")
g = sns.histplot(res[51,:], ax=ax[1])
g.set_title("Last week data")
g = sns.histplot(res.mean(axis=1), ax=ax[2])
g.set_title("Average")


print(f"mean shapiro p-value: {scipy.stats.shapiro(res.mean(axis=1)).pvalue:.2f}")






