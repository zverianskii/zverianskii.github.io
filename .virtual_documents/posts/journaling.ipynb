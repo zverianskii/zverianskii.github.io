








#   html:
# code-fold: true
# embed-resources: false
# toc: true
# toc-depth: 2
#| echo: false
#| output: asis
from IPython.display import display, Image as dImage
from PIL import Image


#| echo: false
#| output: asis
path="../resources/images/d4b7b09f-433f-414a-b396-bdcf10cd08af.jpg"
display(Image.open(path))






























