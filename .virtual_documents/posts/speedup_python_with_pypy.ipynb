








from IPython.display import display, Image as dImage
from PIL import Image
import scipy
import seaborn as sns
import matplotlib.pyplot as plt
import numpy as np


path="../resources/images/a5714f29-c749-419b-a73b-d48dae184a56.png"
display(Image.open(path))








import random

random.seed(1)

def main():
    N = 1_000_000
    res = [0]*N
    for i in range(N):
        dat = (random.randint(0,10) for x in range(100))
        res[i] = sum(dat) / N
    print(res[:10])





















