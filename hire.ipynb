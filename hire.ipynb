{
 "cells": [
  {
   "cell_type": "markdown",
   "id": "36b287df-fc41-4976-9563-02f920d7a8c3",
   "metadata": {},
   "source": [
    "## About Me\n",
    "\n",
    "For the last 16 years in the industry, I have helped many companies with their data needs:\n",
    "\n",
    "- **[Gett](https://gett.com) (ride-hailing marketplace):** Developed data strategy, infra, numerous models, AB-testing framework.\n",
    "- **[Taxfix](https://taxfix.de/en/) (tax filing app):** Optimized questionnaires, ML infra and created a chat-bot.\n",
    "- **[Payler](https://payler.com) (payments processing):** Developed data strategy.\n",
    "- **[Simple App](https://simple.life) (weight loss coach):** Developed chat-bot evaluation techniques and tools.\n",
    "- **Multiple banks:** Chat-bots for internal usage, documents search during KYC/AML, ML infra\n",
    "\n",
    "Additionally, I have created various projects myself, including:\n",
    "\n",
    "- **[Vinolyze](https://www.linkedin.com/company/vinolyze/):** A chemical-based wine recommendation chat-bot.\n",
    "- **[advance.careers](https://web.archive.org/web/20190828115451/https://advance.careers/):** An AI-driven early career job marketplace.\n",
    "- And many more."
   ]
  },
  {
   "cell_type": "markdown",
   "id": "e21296b5-e250-45d5-80e5-eeee3e6500f9",
   "metadata": {
    "jp-MarkdownHeadingCollapsed": true
   },
   "source": [
    "## Common Issues Faced by My Clients:\n",
    "\n",
    "- **\"Everyone claims to be data-driven. I want my team to adopt this approach too, with everything scientifically proven. What are the best tools?\"** You might not need them at all.\n",
    "- \"I'm worried that without a data strategy, we won't be able to grow. We need to build a data lake, warehouse, and establish data stewardship.\" Don't let marketing-driven FOMO distract you from core business.\n",
    "- \"Vector search is the new gold standard; we need it ASAP.\" No, you don't—or at least not with the latest shiny database that overpromises.\n",
    "- \"Our company is only three years old, but we've already changed our data stack four times. Now the tech team wants to switch again.\" It might be time to thoroughly evaluate the trade-offs before making another move.\n",
    "- \"I don't want to be just a middleman between the user and the OpenAI API.\" Let's brainstorm.\n",
    "- \"We can't create our own models; we don't have billions of dollars and access to half of the internet's data.\" You don't need to.\n",
    "- \"We change prompts but have no idea how to measure the difference without A/B testing, which takes too long and slows us down.\" Effective evaluation techniques are key to speeding up development on top of LLMs; you're not alone in facing this challenge."
   ]
  },
  {
   "cell_type": "markdown",
   "id": "aa6daf26-9d7e-4483-91cc-8b70cedfa5f3",
   "metadata": {},
   "source": [
    "## Hiring options"
   ]
  },
  {
   "cell_type": "markdown",
   "id": "9df20ac9-12ee-417f-b63b-4ef878b8d704",
   "metadata": {},
   "source": [
    "### Personal Data Therapy for a Founder\n",
    "\n",
    "I help you become more comfortable with data decisions on a day-to-day basis.\n",
    "\n",
    "### Group Data Therapy for a Team\n",
    "\n",
    "We conduct brainstorms and business-tech dialogues to highlight issues, find solutions, and create strategies.\n",
    "\n",
    "### Specific Topic Training Session\n",
    "\n",
    "Expand your team's knowledge in a requested area.\n",
    "\n",
    "### Project-Based Consulting\n",
    "\n",
    "I join your team for the project and take responsibility for the results."
   ]
  },
  {
   "cell_type": "markdown",
   "id": "12f36ae2-c3d4-4bcc-b18d-66fbb9c0c974",
   "metadata": {},
   "source": [
    "## Where to find me\n",
    "\n",
    "\n",
    "<ul class=\"list-unstyled\">                            \n",
    "              <li><a href=\"https://twitter.com/zverianskii\">Twitter</a></li>\n",
    "              <li><a href=\"https://github.com/zverianskii\">GitHub</a></li>              \n",
    "            <li>alex+consulting@zverianskii.com</li>              \n",
    "            </ul>"
   ]
  },
  {
   "cell_type": "code",
   "execution_count": null,
   "id": "e8fa97e8-3dfd-4367-8430-cdb10321400d",
   "metadata": {},
   "outputs": [],
   "source": []
  }
 ],
 "metadata": {
  "kernelspec": {
   "display_name": "Python 3 (ipykernel)",
   "language": "python",
   "name": "python3"
  },
  "language_info": {
   "codemirror_mode": {
    "name": "ipython",
    "version": 3
   },
   "file_extension": ".py",
   "mimetype": "text/x-python",
   "name": "python",
   "nbconvert_exporter": "python",
   "pygments_lexer": "ipython3",
   "version": "3.11.9"
  }
 },
 "nbformat": 4,
 "nbformat_minor": 5
}
