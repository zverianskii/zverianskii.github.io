{
 "cells": [
  {
   "cell_type": "markdown",
   "id": "8e84b541-aefa-4e1b-949c-3e9367877ff0",
   "metadata": {},
   "source": [
    "---\n",
    "title: \"Aleks\"\n",
    "about:\n",
    "    template: trestles\n",
    "    links:\n",
    "        - icon: linkedin\n",
    "          text: LinkedIn\n",
    "          url: https://www.linkedin.com/in/zverianskii/\n",
    "        - icon: twitter\n",
    "          text: Twitter\n",
    "          url: https://x.com/zverianskii\n",
    "        - icon: github\n",
    "          text: Github\n",
    "          url: https://github.com/zverianskii        \n",
    "        - text: \"{{< fa envelope >}} Email\"\n",
    "          url: mailto:alex+web@zverianskii.com     \n",
    "include-in-header:\n",
    "  text: <script type=\"text/javascript\" src=\"form.js\"></script>\n",
    "image: img/me.jpg\n",
    "comments: false\n",
    "---"
   ]
  },
  {
   "cell_type": "markdown",
   "id": "18e8f88c-b602-40da-a20d-0f4d8f0e7db9",
   "metadata": {},
   "source": [
    "ww"
   ]
  },
  {
   "cell_type": "code",
   "execution_count": null,
   "id": "0d191643-2a2b-41b5-b54d-3695c1468a7f",
   "metadata": {},
   "outputs": [],
   "source": [
    "<div class=\"ml-embedded\" data-form=\"lbuNwR\"></div>"
   ]
  }
 ],
 "metadata": {
  "kernelspec": {
   "display_name": "Python 3 (ipykernel)",
   "language": "python",
   "name": "python3"
  },
  "language_info": {
   "codemirror_mode": {
    "name": "ipython",
    "version": 3
   },
   "file_extension": ".py",
   "mimetype": "text/x-python",
   "name": "python",
   "nbconvert_exporter": "python",
   "pygments_lexer": "ipython3",
   "version": "3.11.9"
  }
 },
 "nbformat": 4,
 "nbformat_minor": 5
}
