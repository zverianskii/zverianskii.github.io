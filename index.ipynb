{
 "cells": [
  {
   "cell_type": "markdown",
   "id": "8e84b541-aefa-4e1b-949c-3e9367877ff0",
   "metadata": {},
   "source": [
    "---\n",
    "title: \"Alex Zverianskii\"\n",
    "about:\n",
    "    template: jolla\n",
    "    links:\n",
    "        - icon: linkedin\n",
    "          text: LinkedIn\n",
    "          url: https://www.linkedin.com/in/zverianskii/\n",
    "        - icon: twitter\n",
    "          text: Twitter\n",
    "          url: https://x.com/zverianskii\n",
    "        - icon: github\n",
    "          text: Github\n",
    "          url: https://github.com/zverianskii        \n",
    "        - text: \"{{< fa envelope >}} Email\"\n",
    "          url: mailto:alex+web@zverianskii.com     \n",
    "include-in-header:\n",
    "  text: <script type=\"text/javascript\" src=\"form.js\"></script>\n",
    "image: img/me.jpg\n",
    "comments: false\n",
    "---"
   ]
  },
  {
   "cell_type": "markdown",
   "id": "18e8f88c-b602-40da-a20d-0f4d8f0e7db9",
   "metadata": {},
   "source": [
    "Hey, I am building things around AI for more than 15 years in businesses of diverse sizes, ranging from 200k MAU to 100mln MAU. I've engineered hundreds of real-time models, prepared data for an IPO, and built three companies from the ground up, with one successful exit. Read my stories on python, data, AI and startups!"
   ]
  },
  {
   "cell_type": "code",
   "execution_count": null,
   "id": "3bc399cc-dbe8-447a-ab81-45fd226abc62",
   "metadata": {},
   "outputs": [],
   "source": []
  },
  {
   "cell_type": "markdown",
   "id": "849d623f-4b41-4470-8184-6a020c4ba081",
   "metadata": {},
   "source": [
    "<div class=\"ml-embedded\" data-form=\"lbuNwR\"></div>"
   ]
  }
 ],
 "metadata": {
  "kernelspec": {
   "display_name": "Python 3 (ipykernel)",
   "language": "python",
   "name": "python3"
  },
  "language_info": {
   "codemirror_mode": {
    "name": "ipython",
    "version": 3
   },
   "file_extension": ".py",
   "mimetype": "text/x-python",
   "name": "python",
   "nbconvert_exporter": "python",
   "pygments_lexer": "ipython3",
   "version": "3.11.9"
  }
 },
 "nbformat": 4,
 "nbformat_minor": 5
}
