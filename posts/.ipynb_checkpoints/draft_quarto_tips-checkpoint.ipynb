{
 "cells": [
  {
   "cell_type": "markdown",
   "id": "e6823e6b-844f-494d-b0c1-c200bd06bcf4",
   "metadata": {},
   "source": [
    "---\n",
    "title: \"Quarto tips\"\n",
    "#description: \"Post description\"\n",
    "draft: true\n",
    "date: \"7/10/2024\"\n",
    "date-modified: \"7/10/2024\"\n",
    "categories:\n",
    "  - knowledge-management\n",
    "author: \"Alex Zverianskii\"\n",
    "format:\n",
    "  html:\n",
    "    code-fold: true\n",
    "    embed-resources: true\n",
    "jupyter: python3\n",
    "---"
   ]
  },
  {
   "cell_type": "markdown",
   "id": "ba188654-5c45-43d0-a341-6f6ee71d2c42",
   "metadata": {},
   "source": [
    "How to add subscription form?"
   ]
  }
 ],
 "metadata": {
  "kernelspec": {
   "display_name": "Python 3 (ipykernel)",
   "language": "python",
   "name": "python3"
  },
  "language_info": {
   "codemirror_mode": {
    "name": "ipython",
    "version": 3
   },
   "file_extension": ".py",
   "mimetype": "text/x-python",
   "name": "python",
   "nbconvert_exporter": "python",
   "pygments_lexer": "ipython3",
   "version": "3.11.9"
  }
 },
 "nbformat": 4,
 "nbformat_minor": 5
}
