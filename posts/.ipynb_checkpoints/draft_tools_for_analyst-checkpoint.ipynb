{
 "cells": [
  {
   "cell_type": "raw",
   "id": "552e2fcc-89af-48af-8d40-5d60fadcc701",
   "metadata": {},
   "source": [
    "---\n",
    "title: \"Tools for Analyst\"\n",
    "#description: \"Post description\"\n",
    "draft: true\n",
    "date: \"3/22/2024\"\n",
    "categories:\n",
    "  - business\n",
    "format:\n",
    "  html:\n",
    "    code-fold: true\n",
    "    embed-resources: true\n",
    "jupyter: python3\n",
    "---"
   ]
  },
  {
   "cell_type": "markdown",
   "id": "6f89cdec-3e79-420e-9f05-50e7adb314db",
   "metadata": {},
   "source": [
    "## what I am going to teach"
   ]
  },
  {
   "cell_type": "markdown",
   "id": "ce1e9f6a-820b-4c56-9209-10254c03e623",
   "metadata": {},
   "source": [
    "Today we are going to talk about tools."
   ]
  },
  {
   "cell_type": "markdown",
   "id": "fdcbe551-b854-4dc6-9284-013dacda06d5",
   "metadata": {},
   "source": [
    "## why it matters to the reader"
   ]
  },
  {
   "cell_type": "markdown",
   "id": "fc3fbf73-1470-4267-b154-2b048b2e264c",
   "metadata": {},
   "source": [
    "Having a propper tooling saves an enormouse amount of time in the long run. Python environments, IDE integration, ssh, git - you spend all your working day interacting with this things, and it must run smoothly. \n",
    "\n",
    "If you are even 10% more efficient that is equal to 2-3 days a month that you can spend on RnD projects that you always wanted, or some new knowledge."
   ]
  },
  {
   "cell_type": "markdown",
   "id": "85a517f0-887c-4f2b-a67b-5de95a751ce7",
   "metadata": {},
   "source": [
    "## why most people fail"
   ]
  },
  {
   "cell_type": "markdown",
   "id": "a5c33db0-0a84-4690-9de3-1298c5bd798e",
   "metadata": {},
   "source": [
    "But the majority of analyst doesnt do it because they think that 10% is not a game changer. But it is if you spent 9 hours a day on your job. \n",
    "\n",
    "Here is a how I do things:"
   ]
  },
  {
   "cell_type": "markdown",
   "id": "ce6f3f8b-c9f0-473d-ad60-2c3003060a2e",
   "metadata": {},
   "source": [
    "- terminal\n",
    "- ssh\n",
    "- git\n",
    "- zsh\n",
    "- brew\n",
    "- pyenv\n",
    "- venv\n",
    "- python for automation\n",
    "- python debuging\n",
    "- regex\n",
    "- jinja2\n",
    "- jupyter\n",
    "- dbiever/datagrip\n",
    "- tmux\n",
    "- docker\n",
    "- passwordmanager"
   ]
  }
 ],
 "metadata": {
  "kernelspec": {
   "display_name": "Python 3 (ipykernel)",
   "language": "python",
   "name": "python3"
  },
  "language_info": {
   "codemirror_mode": {
    "name": "ipython",
    "version": 3
   },
   "file_extension": ".py",
   "mimetype": "text/x-python",
   "name": "python",
   "nbconvert_exporter": "python",
   "pygments_lexer": "ipython3",
   "version": "3.11.9"
  }
 },
 "nbformat": 4,
 "nbformat_minor": 5
}
