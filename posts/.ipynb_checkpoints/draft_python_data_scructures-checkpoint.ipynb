{
 "cells": [
  {
   "cell_type": "raw",
   "id": "552e2fcc-89af-48af-8d40-5d60fadcc701",
   "metadata": {},
   "source": [
    "---\n",
    "title: \"[DRAFT] Python data structures\"\n",
    "#description: \"Post description\"\n",
    "draft: true\n",
    "date: \"5/22/2023\"\n",
    "categories:\n",
    "  - python\n",
    "  - code\n",
    "format:\n",
    "  html:\n",
    "    code-fold: true\n",
    "    embed-resources: true\n",
    "jupyter: python3\n",
    "---"
   ]
  },
  {
   "cell_type": "markdown",
   "id": "6f89cdec-3e79-420e-9f05-50e7adb314db",
   "metadata": {},
   "source": [
    "## what I am going to teach"
   ]
  },
  {
   "cell_type": "markdown",
   "id": "fdcbe551-b854-4dc6-9284-013dacda06d5",
   "metadata": {},
   "source": [
    "## why it matters to the reader"
   ]
  },
  {
   "cell_type": "markdown",
   "id": "85a517f0-887c-4f2b-a67b-5de95a751ce7",
   "metadata": {},
   "source": [
    "## why most people fail"
   ]
  },
  {
   "cell_type": "markdown",
   "id": "7521aa5e-ccd1-4dc7-9f07-195fe4627d9e",
   "metadata": {},
   "source": [
    "## Proofs and strong topical statement"
   ]
  }
 ],
 "metadata": {
  "kernelspec": {
   "display_name": "Python 3 (ipykernel)",
   "language": "python",
   "name": "python3"
  },
  "language_info": {
   "codemirror_mode": {
    "name": "ipython",
    "version": 3
   },
   "file_extension": ".py",
   "mimetype": "text/x-python",
   "name": "python",
   "nbconvert_exporter": "python",
   "pygments_lexer": "ipython3",
   "version": "3.11.9"
  }
 },
 "nbformat": 4,
 "nbformat_minor": 5
}
