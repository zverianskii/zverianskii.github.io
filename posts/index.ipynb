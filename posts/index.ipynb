{
 "cells": [
  {
   "cell_type": "markdown",
   "id": "dda1d43d-73f7-408e-bca0-3a0461e7011b",
   "metadata": {},
   "source": [
    "---\n",
    "listing:\n",
    "  categories: true\n",
    "  contents:\n",
    "  - '*.ipynb'\n",
    "  feed: true\n",
    "  filter-ui: false\n",
    "  sort: date desc\n",
    "  sort-ui: false\n",
    "  type: default\n",
    "page-layout: full\n",
    "title: My notes\n",
    "title-block-bannerrR: false\n",
    "---"
   ]
  },
  {
   "cell_type": "code",
   "execution_count": null,
   "id": "aa74171e-639c-4cce-aa04-b4fee402f24a",
   "metadata": {},
   "outputs": [],
   "source": []
  }
 ],
 "metadata": {
  "kernelspec": {
   "display_name": "Python 3 (ipykernel)",
   "language": "python",
   "name": "python3"
  },
  "language_info": {
   "codemirror_mode": {
    "name": "ipython",
    "version": 3
   },
   "file_extension": ".py",
   "mimetype": "text/x-python",
   "name": "python",
   "nbconvert_exporter": "python",
   "pygments_lexer": "ipython3",
   "version": "3.11.9"
  }
 },
 "nbformat": 4,
 "nbformat_minor": 5
}
